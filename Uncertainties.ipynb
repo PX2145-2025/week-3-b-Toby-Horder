{
  "cells": [
    {
      "cell_type": "markdown",
      "metadata": {
        "id": "veVmYf0ToXvU"
      },
      "source": [
        "# Feedback from previous weeks and other and hints\n",
        "\n",
        "1. Be careful about your environment remembering variables. Make sure your code works in a new _clean_ environment. In Colab: `Runtime`->`restart Runtime`, in Anaconda's Jupyter: `Kernel`->`Restart`.\n",
        "2. Graphs without labels (or units when appropriate) are not worth any point.\n",
        "3. Do put in sufficient explanatory comments in your code.\n",
        "4. Functions are very important. Do look up the video on the Safari O'Reilly ressource if you are still not clear on them !\n",
        "\n",
        "For this week you can use these imports at the start of your programs:"
      ]
    },
    {
      "cell_type": "code",
      "execution_count": null,
      "metadata": {
        "id": "XKqnlsdvoXvW"
      },
      "outputs": [],
      "source": [
        "import numpy as np\n",
        "import matplotlib.pyplot as plt"
      ]
    },
    {
      "cell_type": "markdown",
      "metadata": {
        "id": "YQ_DMuXLoXvY"
      },
      "source": [
        "We will use a new module `uncertainties`, which is **not** standard in the colab environment. You will have to first run:"
      ]
    },
    {
      "cell_type": "code",
      "execution_count": 1,
      "metadata": {
        "colab": {
          "base_uri": "https://localhost:8080/"
        },
        "id": "5qxtYL2noXvY",
        "outputId": "7e098c7d-7e6b-4187-cb4a-75fc7fde8d0a"
      },
      "outputs": [
        {
          "output_type": "stream",
          "name": "stdout",
          "text": [
            "\u001b[?25l   \u001b[90m━━━━━━━━━━━━━━━━━━━━━━━━━━━━━━━━━━━━━━━━\u001b[0m \u001b[32m0.0/60.1 kB\u001b[0m \u001b[31m?\u001b[0m eta \u001b[36m-:--:--\u001b[0m\r\u001b[2K   \u001b[90m━━━━━━━━━━━━━━━━━━━━━━━━━━━━━━━━━━━━━━━━\u001b[0m \u001b[32m60.1/60.1 kB\u001b[0m \u001b[31m1.7 MB/s\u001b[0m eta \u001b[36m0:00:00\u001b[0m\n",
            "\u001b[?25h"
          ]
        }
      ],
      "source": [
        "! pip install -q uncertainties"
      ]
    },
    {
      "cell_type": "markdown",
      "metadata": {
        "id": "72qL8_eUoXvZ"
      },
      "source": [
        "To install the module before you can import it:"
      ]
    },
    {
      "cell_type": "code",
      "execution_count": null,
      "metadata": {
        "id": "ZcOzRx7_oXvZ"
      },
      "outputs": [],
      "source": [
        "import uncertainties as uc\n",
        "import uncertainties.umath as um # for maths functions"
      ]
    },
    {
      "cell_type": "markdown",
      "metadata": {
        "id": "azzUS_JeoXvZ"
      },
      "source": [
        "# Introduction\n",
        "In the practical classes PX2133/PX2233 and PX2338 (Obs tech), as well as your year 3/4 project, a lot of emphasis is placed on the determination and mathematical handling of errors.\n",
        "The uncertainties module allows us to deal very easily with [error propagation](https://en.wikipedia.org/wiki/Propagation_of_uncertainty). For this sheet you should remind yourself about error bars in measurements and about propagation of uncertainties. Take an example from your lab handbook:\n",
        "\n",
        "**Example 1**: If the length of a rectangle is $1.24\\pm0.02 m$ and its breadth is $0.61\\pm0.01 m$, what is its area and the error in the area? The following code snippet solves this problem in a few lines."
      ]
    },
    {
      "cell_type": "code",
      "execution_count": null,
      "metadata": {
        "id": "voNAvtRloXvZ",
        "outputId": "69a30244-9e6a-4241-e4d0-761d56b58b76"
      },
      "outputs": [
        {
          "name": "stdout",
          "output_type": "stream",
          "text": [
            "Area is: 0.756+/-0.017 m^2\n"
          ]
        }
      ],
      "source": [
        "L = uc.ufloat(1.24, 0.02)\n",
        "W = uc.ufloat(0.61, 0.01)\n",
        "print ('Area is:', L*W, 'm^2') # Do remember to add the units when printing!"
      ]
    },
    {
      "cell_type": "markdown",
      "metadata": {
        "id": "41wjtNFwoXvb"
      },
      "source": [
        "**Note**: For the area itself, it's fairly straightforward:"
      ]
    },
    {
      "cell_type": "code",
      "execution_count": null,
      "metadata": {
        "id": "UfsAuq_ToXvb",
        "outputId": "0e445586-4f29-400c-a858-a8a4857bd733"
      },
      "outputs": [
        {
          "data": {
            "text/plain": [
              "0.7564"
            ]
          },
          "execution_count": 5,
          "metadata": {},
          "output_type": "execute_result"
        }
      ],
      "source": [
        "1.24*0.61"
      ]
    },
    {
      "cell_type": "markdown",
      "metadata": {
        "id": "eQIM8nPRoXvc"
      },
      "source": [
        "However, for the error bar on this number:"
      ]
    },
    {
      "cell_type": "code",
      "execution_count": null,
      "metadata": {
        "id": "F49w65R1oXvc",
        "outputId": "9bf61f87-ed35-4d9c-bde8-9f01805c2d30"
      },
      "outputs": [
        {
          "data": {
            "text/plain": [
              "0.0002"
            ]
          },
          "execution_count": 6,
          "metadata": {},
          "output_type": "execute_result"
        }
      ],
      "source": [
        "0.02*0.01"
      ]
    },
    {
      "cell_type": "markdown",
      "metadata": {
        "id": "O4sdfwfmoXvc"
      },
      "source": [
        "does not work. Instead, the [error progation formula](https://en.wikipedia.org/wiki/Propagation_of_uncertainty#Example_formulae) gives:"
      ]
    },
    {
      "cell_type": "code",
      "execution_count": null,
      "metadata": {
        "id": "BpQpv-IcoXvc",
        "outputId": "f4755dd4-962e-450d-9ab4-f853c4a7adcd"
      },
      "outputs": [
        {
          "data": {
            "text/plain": [
              "0.01739540169125163"
            ]
          },
          "execution_count": 7,
          "metadata": {},
          "output_type": "execute_result"
        }
      ],
      "source": [
        "np.abs(1.24*0.61)*np.sqrt((0.02/1.24)**2+(0.01/0.61)**2)"
      ]
    },
    {
      "cell_type": "markdown",
      "metadata": {
        "id": "A_8ctc58oXvc"
      },
      "source": [
        "So the area is $0.756\\pm0.017 m^2$. `uncertainties` obviously saves a lot of work, even for such a simple case. You can also take a look at the web site uncertainties hosted at https://pythonhosted.org/uncertainties/user_guide.html. In particular, [this section](https://pythonhosted.org/uncertainties/user_guide.html#access-to-the-uncertainty-and-to-the-nominal-value) shows some of the properties of a `ufloat` you can access directly.\n",
        "\n",
        "**Example 2**: A reference object is $10.0\\pm0.0001 m$ long, and makes a viewing angle of $0.62\\pm0.02 rad$. How far is it?"
      ]
    },
    {
      "cell_type": "code",
      "execution_count": null,
      "metadata": {
        "id": "GcwPdy2hoXvd",
        "outputId": "a3229d0e-7afb-44e1-e1fa-ab7f0782e6f3"
      },
      "outputs": [
        {
          "name": "stdout",
          "output_type": "stream",
          "text": [
            "Distance is: 15.609024890896208 m, with an error of: 0.537283338762715\n"
          ]
        }
      ],
      "source": [
        "L = uc.ufloat(10.0, 0.0001)\n",
        "theta = uc.ufloat(0.62,0.02)\n",
        "\n",
        "Distance = (L/2)/um.tan(theta/2)\n",
        "\n",
        "print ('Distance is:', Distance.nominal_value, 'm, with an error of:', Distance.std_dev)"
      ]
    },
    {
      "cell_type": "markdown",
      "metadata": {
        "id": "diuCk8aHoXvd"
      },
      "source": [
        "Note the need to use \"umath\" functions (like `um.tan()` instead of `np.tan()`), and how to get the nominal value and the standard deviation of the uncertainties objects. To get nicer looking output, such as controlling the number of significant digits printed, you can use the information about formatting at https://docs.python.org/3/tutorial/inputoutput.html. In the exercises below you need to print the values to the screen. (Don’t forget units.)"
      ]
    },
    {
      "cell_type": "markdown",
      "metadata": {
        "id": "KhZIqv1LoXvd"
      },
      "source": [
        "# Exercises\n",
        "This must be marked before you leave the lab. Mark weighting is in brackets.\n",
        "**Save your work to GitHub after having run all cells with `Runtime` -> `Restart and run all`. And do not change the notebook's filename.** Do add comments to your code, you'll lose points if your code is hard to understand. Graphs without labels (or units when appropriate) are not worth any point.\n",
        "\n",
        "## Exercise 0\n",
        "[0] With some approximations, we have measured the mass of the following black-holes:\n",
        "```\n",
        "\"35.6+/-3.9\",\"30.6+/-3.7\",\"63.1+/-3.2\",\"23.2+/-9.8\",\"13.6+/-4.5\",\"35.7+/-6.8\",\"13.7+/-6.0\",\"7.7+/-2.4\",\"20.5+/-4.0\"\n",
        "```\n",
        "Compute for each (with error-bars) their lifetime due to Hawking radiation:\n",
        "$$\n",
        "t = \\left(\\frac{M}{M_{\\odot}}\\right)^3\\,\\times\\,2.097\\,\\times\\,10^{67} yr\n",
        "$$\n",
        "\n",
        "(this exercise is for demonstration purposes and won't be marked)"
      ]
    },
    {
      "cell_type": "code",
      "execution_count": null,
      "metadata": {
        "id": "G1lgg0OioXvd"
      },
      "outputs": [],
      "source": []
    },
    {
      "cell_type": "markdown",
      "metadata": {
        "id": "AZ1MTd8KoXvd"
      },
      "source": [
        "## Exercise 1\n",
        "[2] An object is measured to travel a distance $x = 5.1 \\pm 0.4 m$ during a time of $t = 0.4 \\pm 0.1 s$. What is the average velocity and the error in the average velocity?"
      ]
    },
    {
      "cell_type": "code",
      "execution_count": 2,
      "metadata": {
        "colab": {
          "base_uri": "https://localhost:8080/"
        },
        "id": "ygJLfWjvoXvd",
        "outputId": "b5fca970-d917-4005-c5b9-155791cf4fca"
      },
      "outputs": [
        {
          "output_type": "stream",
          "name": "stdout",
          "text": [
            "Average velocity: 12.7+/-3.3\n",
            "Nominal value: 13 m/s\n",
            "Uncertainty: 3 m/s\n"
          ]
        }
      ],
      "source": [
        "from uncertainties import ufloat\n",
        "\n",
        "\n",
        "displacement = ufloat(5.1, 0.4)  # m\n",
        "time = ufloat(0.4, 0.1)  # s\n",
        "\n",
        "\n",
        "AvgVel = displacement / time\n",
        "\n",
        "\n",
        "print(f\"Average velocity: {AvgVel}\")\n",
        "print(f\"Nominal value: {AvgVel.n:.0f} m/s\")\n",
        "print(f\"Uncertainty: {AvgVel.s:.0f} m/s\")\n"
      ]
    },
    {
      "cell_type": "markdown",
      "metadata": {
        "id": "eMCPksyXoXve"
      },
      "source": [
        "## Exercise 2\n",
        "[2] An enterprising cow attempts to jump over the moon by jumping vertically into the air with initial speed $v_0=4.0\\pm0.2 m/s$. After a time $t=0.60\\pm0.06s$, the height of the cow is $h = v_0t-\\frac{1}{2}g t^2 = 0.636 m$. What is the uncertainty in $h$? Take $g$ as exactly $9.81 ms^{-2}$."
      ]
    },
    {
      "cell_type": "code",
      "execution_count": 3,
      "metadata": {
        "colab": {
          "base_uri": "https://localhost:8080/"
        },
        "id": "nmfsT_W2oXve",
        "outputId": "3d0237ad-7a3f-4e48-87c5-46c9e3a4dfc9"
      },
      "outputs": [
        {
          "output_type": "stream",
          "name": "stdout",
          "text": [
            "height: 0.63+/-0.16 m\n",
            "nominal value: 0.6 m\n",
            "uncertainty: 0.2 m\n"
          ]
        }
      ],
      "source": [
        "InitialV = ufloat(4.0,0.2) #m/s\n",
        "time = ufloat(0.60,0.06) #s\n",
        "g = 9.81 #m/s\n",
        "\n",
        "height = InitialV * time - 0.5*g*(time**2)\n",
        "\n",
        "print(f\"height: {height} m\")\n",
        "print(f\"nominal value: {height.n:.1f} m\")\n",
        "print(f\"uncertainty: {height.s:.1f} m\")"
      ]
    },
    {
      "cell_type": "markdown",
      "metadata": {
        "id": "bwvRfeq7oXve"
      },
      "source": [
        "## Exercise 3\n",
        "[2] In an optics experiment the object distance $u$ is measured to be 20cm and the image distance $v$ is 10cm, both to an accuracy of 0.5cm. Find the focal length $f$ of the lens using the formula:\n",
        "\n",
        "$$ \\frac{1}{u}+\\frac{1}{v}=\\frac{1}{f}$$"
      ]
    },
    {
      "cell_type": "code",
      "execution_count": 4,
      "metadata": {
        "colab": {
          "base_uri": "https://localhost:8080/"
        },
        "id": "JIPZxSO5oXve",
        "outputId": "8abee931-22bb-4dbc-eefd-3167eecfbd12"
      },
      "outputs": [
        {
          "output_type": "stream",
          "name": "stdout",
          "text": [
            "height: 6.67+/-0.23 cm\n",
            "nominal value: 6.667 cm\n",
            "uncertainty: 0.229 cm\n"
          ]
        }
      ],
      "source": [
        "objectDistance = ufloat(20,0.5) #cm\n",
        "imageDistance = ufloat(10, 0.5) #cm\n",
        "\n",
        "focalLength = 1/((1/objectDistance) + 1/imageDistance)\n",
        "\n",
        "print(f\"height: {focalLength} cm\")\n",
        "print(f\"nominal value: {focalLength.n:.3f} cm\")\n",
        "print(f\"uncertainty: {focalLength.s:.3f} cm\")\n"
      ]
    },
    {
      "cell_type": "markdown",
      "metadata": {
        "id": "QzsSluQqoXve"
      },
      "source": [
        "## Exercise 4\n",
        "[2] Two students each measure the refractive index of water. Jack measures a value of $1.33 \\pm 0.03$ while Jill measures $1.28 \\pm 0.02$. Are these values in agreement? *You do have to think a bit about this one...*"
      ]
    },
    {
      "cell_type": "code",
      "execution_count": 5,
      "metadata": {
        "colab": {
          "base_uri": "https://localhost:8080/"
        },
        "id": "mhhR29yfoXve",
        "outputId": "04a604bd-8b26-4256-db52-987ab0196141"
      },
      "outputs": [
        {
          "output_type": "stream",
          "name": "stdout",
          "text": [
            "0.03605551275463989\n",
            "0.050000000000000044\n",
            "1.386750490563074\n",
            "the two values are not in agreement as they are above 1 std deviation\n"
          ]
        }
      ],
      "source": [
        "refractiveIndexJack = ufloat(1.33,0.03)\n",
        "refractiveIndexJill = ufloat(1.28,0.02)\n",
        "\n",
        "refractiveIndexDiferrence = refractiveIndexJack - refractiveIndexJill\n",
        "AbsoulterefractiveIndexDiferrence = abs(refractiveIndexDiferrence.n)\n",
        "\n",
        "print(refractiveIndexDiferrence.s)\n",
        "print(AbsoulterefractiveIndexDiferrence)\n",
        "\n",
        "standardDeviation = AbsoulterefractiveIndexDiferrence/refractiveIndexDiferrence.s\n",
        "print(standardDeviation)\n",
        "\n",
        "if standardDeviation <= 1:\n",
        "  print(\"the two values are in agreement\")\n",
        "else:\n",
        "  print(\"the two values are not in agreement as they are above 1 std deviation\")\n",
        "\n",
        "\n",
        "\n"
      ]
    },
    {
      "cell_type": "markdown",
      "metadata": {
        "id": "5_dlDixCoXve"
      },
      "source": [
        "## Exercise 5\n",
        "[2] The damped resonance frequency $\\omega_{res}$ of an oscillating system is related to the (un-damped) natural angular frequency $\\omega_0$ and the damping coefficient $\\alpha$ by:\n",
        "\n",
        "$$\\omega_{res} = \\sqrt{ \\omega_0^2 - 2\\alpha^2}$$\n",
        "\n",
        "Find $f_0$ if the measured resonance frequency $f_{res}$ is $23.2\\pm0.1 Hz$ and the measured damping coefficient is $19.5\\pm0.5s^{-1}$.\n"
      ]
    },
    {
      "cell_type": "code",
      "execution_count": 6,
      "metadata": {
        "colab": {
          "base_uri": "https://localhost:8080/"
        },
        "id": "M74kGTc2oXve",
        "outputId": "ec095a8e-5bc3-4ff0-acff-d58909fedee5"
      },
      "outputs": [
        {
          "output_type": "stream",
          "name": "stdout",
          "text": [
            "natural Frequency: (1.58+/-0.04)e+03 Hz\n",
            "nominal value: 1580.2 Hz\n",
            "uncertainty: 40.5 Hz\n"
          ]
        }
      ],
      "source": [
        "import numpy as np\n",
        "measuredResonanceFrequency = ufloat(23.2, 0.1) #Hz\n",
        "measuredDampingCoefficient = ufloat(19.5,0.5) #s^-1\n",
        "dampedResonanceFrequency = (np.pi/180)*measuredResonanceFrequency #Rad/s\n",
        "\n",
        "#w_res^2 = w_0^2 - 2a^2\n",
        "#w_0 = (w_res^2 + 2a^2)^1/2\n",
        "\n",
        "naturalAngularFrequency = (dampedResonanceFrequency**2 + 2*measuredDampingCoefficient**2)**(0.5) #rad/s\n",
        "\n",
        "naturalFrequency = naturalAngularFrequency*(180/np.pi) #Hz\n",
        "\n",
        "\n",
        "print(f\"natural Frequency: {naturalFrequency} Hz\")\n",
        "print(f\"nominal value: {naturalFrequency.n:.1f} Hz\")\n",
        "print(f\"uncertainty: {naturalFrequency.s:.1f} Hz\")"
      ]
    },
    {
      "cell_type": "markdown",
      "metadata": {
        "id": "DSW7WpRhoXve"
      },
      "source": [
        "## Exercise 6\n",
        "[2] Suppose you have the following equation from one of your lab experiments:\n",
        "\n",
        "$$f=\\frac{c}{2}\\sqrt{\\frac{n_x^2}{L_x^2}+\\frac{n_y^2}{L_y^2}+\\frac{n_z^2}{L_z^2}}$$\n",
        "\n",
        "where $f$ is the resonant frequency of sound waves in a box of sides $L_x$, $L_y$ and $L_z$ in length and the $n_x$ etc. are integers. $L_x = 10.2\\pm0.2m$, $L_y = 5.2\\pm0.3m$ and $L_z = 20.0\\pm0.1 m$, while $c = 331.3 + T * 0.606 \\,m\\,s^{-1}$ is the temperature-dependent speed of sound, and the temperature $T$ is $23 \\pm 1^\\circ C$.\n",
        "Calculate $f$ and the error in $f$ for the following values of $(nx,ny,nz)= (1,1,1), (1,1,2)$ and $(2,1,1)$.\n"
      ]
    },
    {
      "cell_type": "code",
      "execution_count": 14,
      "metadata": {
        "colab": {
          "base_uri": "https://localhost:8080/"
        },
        "id": "aeN9TKfyoXve",
        "outputId": "d3654fa7-8c6f-476a-9ad4-7db0e0c496ec"
      },
      "outputs": [
        {
          "output_type": "stream",
          "name": "stdout",
          "text": [
            "please input the value of Nx: 1\n",
            "please input the value of Ny: 1\n",
            "please input the value of Nz: 2\n",
            "resonant Frequency: 60.7+/-2.3 Hz\n",
            "nominal value: 60.744 Hz\n",
            "uncertainty: 2.301 Hz\n"
          ]
        }
      ],
      "source": [
        "\n",
        "def resonantFrequencyEquation(Nx,Ny,Nz):\n",
        "  Lx = ufloat(10.2,0.2) #m\n",
        "  Ly = ufloat(5.2,0.3) #m\n",
        "  Lz = ufloat(20.0,0.1) #m\n",
        "  temperatureCelcius = ufloat(23,1) #celcius\n",
        "  tempKelvin = temperatureCelcius +273\n",
        "  temperatureDependentSpeedOfSound = 331.3 + tempKelvin*0.606\n",
        "  resonantFrequency = (temperatureDependentSpeedOfSound/2) * ((Nx**2/Lx**2) + (Ny**2/Ly**2)+ (Nz**2/Lz**2) )**0.5\n",
        "\n",
        "\n",
        "  return resonantFrequency\n",
        "\n",
        "\n",
        "Nx = float(input(\"please input the value of Nx: \"))\n",
        "Ny = float(input(\"please input the value of Ny: \"))\n",
        "Nz = float(input(\"please input the value of Nz: \"))\n",
        "\n",
        "\n",
        "resonantFrequency = resonantFrequencyEquation(Nx,Ny,Nz)\n",
        "\n",
        "print(f\"resonant Frequency: {resonantFrequency} Hz\")\n",
        "print(f\"nominal value: {resonantFrequency.n:.3f} Hz\")\n",
        "print(f\"uncertainty: {resonantFrequency.s:.3f} Hz\")\n",
        "\n",
        "\n",
        "#answers\n",
        "#56.6 +- 2.5\n",
        "#60.7 +- 2.3\n",
        "#71.3 +- 2.1\n",
        "\n"
      ]
    },
    {
      "cell_type": "markdown",
      "metadata": {
        "id": "yOdmnW66oXvf"
      },
      "source": [
        "## Exercise 7\n",
        "[4] The reflection coefficient $R_\\parallel$ for parallel plane-polarised light reflected from a surface is given by the equation:\n",
        "\n",
        "$$ R_\\parallel = \\frac{\\tan^2(\\theta_i - \\theta_t)}{\\tan^2(\\theta_i + \\theta_t)} $$\n",
        "\n",
        "Calculate the error in $R_\\parallel$ given measurements $\\theta_i = (78 \\pm 1)^\\circ$ and $\\theta_t = (40 \\pm 1)^\\circ$."
      ]
    },
    {
      "cell_type": "code",
      "execution_count": 11,
      "metadata": {
        "colab": {
          "base_uri": "https://localhost:8080/"
        },
        "id": "zGeLbZxboXvf",
        "outputId": "8694c167-16b3-4af3-bdd8-13dac2c31a14"
      },
      "outputs": [
        {
          "output_type": "stream",
          "name": "stdout",
          "text": [
            "reflection Coefficient: 0.173+/-0.027\n",
            "nominal value: 0.173\n",
            "uncertainty: 0.027\n"
          ]
        }
      ],
      "source": [
        "import numpy as np\n",
        "import uncertainties.umath as un\n",
        "from uncertainties import ufloat\n",
        "\n",
        "\n",
        "\n",
        "thetaIDegrees = ufloat(78, 1) #degrees\n",
        "thetaTDegrees = ufloat(40, 1) #degrees\n",
        "\n",
        "thetaIRadians = thetaIDegrees * (np.pi / 180) #convert to radians\n",
        "thetaTRadians = thetaTDegrees * (np.pi / 180)\n",
        "\n",
        "\n",
        "reflectionCoefficient = (un.tan(thetaIRadians - thetaTRadians))**2/(un.tan(thetaIRadians + thetaTRadians))**2  #for this, it must be in radians!!!!!\n",
        "\n",
        "print(f\"reflection Coefficient: {reflectionCoefficient}\")\n",
        "print(f\"nominal value: {reflectionCoefficient.n:.3f}\")\n",
        "print(f\"uncertainty: {reflectionCoefficient.s:.3f}\")"
      ]
    },
    {
      "cell_type": "markdown",
      "metadata": {
        "id": "4LtEXG2ZoXvf"
      },
      "source": [
        "## Exercise 8\n",
        "[4] Calculate and print to the screen the fractional uncertainty, as a percentage to one\n",
        "significant figure, of the fluid flow discharge coefficient $C_d$ from the equation\n",
        "\n",
        "$$\n",
        "C_d = \\frac{\\dot{m}\\sqrt{1-\\left(\\frac{d}{D}\\right)^4}}{Kd^2F\\sqrt{\\rho\\Delta P}}\n",
        "$$\n",
        "\n",
        "where\n",
        "\n",
        "\\begin{align*}\n",
        "    C_d &= \\text{discharge coefficient}&& \\text{(no units)} \\\\\n",
        "    \\dot{m} &= \\text{mass flow rate}&& = 0.13 \\pm 0.01kg\\,s^{-1} \\\\\n",
        "    d &= \\text{orifice diameter}&& = 11\\pm 1 mm \\\\\n",
        "    D &= \\text{pipe diameter}&& = 71 \\pm 1 mm \\\\\n",
        "    \\rho &= \\text{fluid density}&& =1.01\\pm0.01g\\,cm^{-3} \\\\\n",
        "    \\Delta P &= \\text{differential pressure}&& =156 \\pm 7 Pa \\\\\n",
        "    K &= \\text{a constant parameter}&& =\\text{constant (no units)} \\\\\n",
        "    F &= \\text{thermal expansion factor}&& =\\text{constant (no units)}\n",
        "\\end{align*}\n"
      ]
    },
    {
      "cell_type": "code",
      "execution_count": 13,
      "metadata": {
        "colab": {
          "base_uri": "https://localhost:8080/"
        },
        "id": "5z9_w7P2oXvf",
        "outputId": "0eb7e402-34cb-4d33-f78d-9dd7e3700097"
      },
      "outputs": [
        {
          "output_type": "stream",
          "name": "stdout",
          "text": [
            "20%\n"
          ]
        }
      ],
      "source": [
        "massFlowRate = ufloat(0.13, 0.01) #kgs^-1\n",
        "orificeDiameter = ufloat(11,1) #mm\n",
        "pipeDiameter = ufloat(71,1) #mm\n",
        "fluidDensity = ufloat(1.01,0.01) #gcm^-3\n",
        "differentialPressure = ufloat(156,7) #Pa\n",
        "\n",
        "\n",
        "orificeDiameter_m = orificeDiameter/1000\n",
        "pipeDiameter_m = pipeDiameter/1000\n",
        "fluidDensity_kgm3 = fluidDensity * (10**-3)/(10**-2)**3\n",
        "\n",
        "#can ignore constants, wont change uncertainty\n",
        "\n",
        "Cd = (massFlowRate * (1-(orificeDiameter_m/pipeDiameter_m)**4)**0.5)/((orificeDiameter_m)**2 * (fluidDensity_kgm3 * differentialPressure)**0.5)\n",
        "fractionalUncertainty = Cd.s/Cd.n * 100\n",
        "fractionalUncertaintyRounded = round(fractionalUncertainty)\n",
        "print(f\"{fractionalUncertaintyRounded}%\")\n",
        "\n",
        "\n"
      ]
    },
    {
      "cell_type": "markdown",
      "metadata": {
        "id": "VD3kVJ1foXvf"
      },
      "source": [
        "## Exercise 9: Optional problem (not marked)\n",
        "If you have time and want to try something interesting, do the following problem by plotting in 2D:\n",
        " - Draw an equilateral triangle with vertices and coordinates: vertex 1: $(p_1,q_1)$; vertex 2: $(p_2, q_2)$; vertex 3: $(p_3, q_3)$.\n",
        " - Place a dot at an arbitrary point $P = (x_0, y_0)$ within this triangle.\n",
        " - Find the next point by selecting randomly an integer $n = 1 , 2, $  or $3$ :\n",
        "    1. If 1 , place a dot halfway between P and vertex 1.\n",
        "    2. If 2 , place a dot halfway between P and vertex 2.\n",
        "    3. If 3 , place a dot halfway between P and vertex 3.\n",
        " - Repeat the last two steps using the last dot as the new P.\n",
        "\n",
        "Mathematically, the coordinates of successive points are given by the formulae\n",
        "\n",
        "$$(x_{i+1},y_{i+1})=0.5[(x_i,y_i)+(p_n,q_n)]$$\n",
        "\n",
        "and\n",
        "\n",
        "$$n=int(1+3r_i),$$\n",
        "\n",
        "where $r_i$ is a random number between 0 and 1 and where the $int()$ function outputs the closest integer smaller than or equal to the argument.\n",
        "\n",
        "Try extending this to four vertices."
      ]
    },
    {
      "cell_type": "code",
      "execution_count": null,
      "metadata": {
        "id": "x-E5jU0qoXvf"
      },
      "outputs": [],
      "source": []
    }
  ],
  "metadata": {
    "kernelspec": {
      "display_name": "Python 3",
      "language": "python",
      "name": "python3"
    },
    "language_info": {
      "codemirror_mode": {
        "name": "ipython",
        "version": 3
      },
      "file_extension": ".py",
      "mimetype": "text/x-python",
      "name": "python",
      "nbconvert_exporter": "python",
      "pygments_lexer": "ipython3",
      "version": "3.7.10"
    },
    "colab": {
      "provenance": []
    }
  },
  "nbformat": 4,
  "nbformat_minor": 0
}